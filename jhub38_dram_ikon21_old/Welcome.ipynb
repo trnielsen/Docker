{
 "cells": [
  {
   "cell_type": "markdown",
   "id": "58f785bb",
   "metadata": {},
   "source": [
    "# Welcome to the IKON Python Course"
   ]
  },
  {
   "cell_type": "markdown",
   "id": "e1b3de06",
   "metadata": {},
   "source": [
    "Run the cells to get the latest version of the course materials "
   ]
  },
  {
   "cell_type": "code",
   "execution_count": null,
   "id": "8369820b",
   "metadata": {
    "ExecuteTime": {
     "end_time": "2021-08-18T20:14:43.196084Z",
     "start_time": "2021-08-18T20:14:42.660216Z"
    }
   },
   "outputs": [],
   "source": [
    "!git clone https://github.com/ess-dmsc-dram/python-course-ikon"
   ]
  },
  {
   "cell_type": "markdown",
   "id": "c9585566",
   "metadata": {
    "ExecuteTime": {
     "end_time": "2021-08-18T20:14:46.226642Z",
     "start_time": "2021-08-18T20:14:46.222269Z"
    }
   },
   "source": [
    "# Welcome to the IKON Scipp Course"
   ]
  },
  {
   "cell_type": "markdown",
   "id": "9724b141",
   "metadata": {},
   "source": [
    "Run the cells to get the latest version of the course materials "
   ]
  },
  {
   "cell_type": "code",
   "execution_count": null,
   "id": "dc7eab43",
   "metadata": {
    "ExecuteTime": {
     "end_time": "2021-08-18T20:15:11.576402Z",
     "start_time": "2021-08-18T20:15:08.027878Z"
    }
   },
   "outputs": [],
   "source": [
    "!git clone https://github.com/scipp/ess-notebooks.git"
   ]
  }
 ],
 "metadata": {
  "kernelspec": {
   "display_name": "Python 3 (ipykernel)",
   "language": "python",
   "name": "python3"
  },
  "language_info": {
   "codemirror_mode": {
    "name": "ipython",
    "version": 3
   },
   "file_extension": ".py",
   "mimetype": "text/x-python",
   "name": "python",
   "nbconvert_exporter": "python",
   "pygments_lexer": "ipython3",
   "version": "3.8.10"
  },
  "toc": {
   "base_numbering": 1,
   "nav_menu": {},
   "number_sections": true,
   "sideBar": true,
   "skip_h1_title": false,
   "title_cell": "Table of Contents",
   "title_sidebar": "Contents",
   "toc_cell": false,
   "toc_position": {},
   "toc_section_display": true,
   "toc_window_display": false
  }
 },
 "nbformat": 4,
 "nbformat_minor": 5
}
